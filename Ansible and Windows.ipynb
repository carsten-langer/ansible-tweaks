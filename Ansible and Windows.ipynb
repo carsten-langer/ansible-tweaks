{
 "cells": [
  {
   "cell_type": "markdown",
   "metadata": {
    "slideshow": {
     "slide_type": "slide"
    }
   },
   "source": [
    "# Ansible and Windows\n",
    "\n",
    "2015-12-07\n",
    "Carsten Langer"
   ]
  },
  {
   "cell_type": "markdown",
   "metadata": {
    "slideshow": {
     "slide_type": "slide"
    }
   },
   "source": [
    "# Agenda\n",
    "* How it should work\n",
    "* Issues with PowerShell versions 2 and 3\n",
    "* Issues with SSL certificate handling\n",
    "* Issues with Windows Server 2012\n",
    "* Solutions to the SSL certificate handling"
   ]
  },
  {
   "cell_type": "markdown",
   "metadata": {
    "slideshow": {
     "slide_type": "slide"
    }
   },
   "source": [
    "# Concept\n",
    "\n",
    "* Windows controlled client\n",
    "* Ansible runs on GNU/Linux [[1]](http://docs.ansible.com/ansible/intro_windows.html#reminder-you-must-have-a-linux-control-machine)\n",
    "* \"Manage Windows like Windows\",  \n",
    "    same as \"manage Linux like Linux\" [[2]](http://www.ansible.com/windows):\n",
    "    * PowerShell instead of Python scripts\n",
    "    * Native PowerShell remoting\n",
    "        * Windows Remote Management (winrm) service\n",
    "        * HTTP(S), instead of SSH"
   ]
  },
  {
   "cell_type": "markdown",
   "metadata": {
    "slideshow": {
     "slide_type": "slide"
    }
   },
   "source": [
    "# How it should work\n",
    "\n",
    "* Ansible -> HTTPS -> winrm\n",
    "* Send user/pass via Basic Authentication = clear text\n",
    "    * Domain machines can use Kerberos\n",
    "* Send PS script\n",
    "* Execute PS script"
   ]
  },
  {
   "cell_type": "markdown",
   "metadata": {
    "slideshow": {
     "slide_type": "subslide"
    }
   },
   "source": [
    "# Requirements\n",
    "\n",
    "On controlled Windows machine:\n",
    "\n",
    "* Installing and enabling the Windows Remote Management service.\n",
    "* Enabling the PowerShell remoting.\n",
    "* Enabling an HTTPS listener\n",
    "    * provide with SSL certificate and corresponding private key.\n",
    "* Allowing Basic Authentication.\n",
    "* Opening the Firewall (5986 for HTTPS, 5985 for HTTP).\n",
    "\n",
    "On Ansible control machine:\n",
    "\n",
    "* pywinrm >= 0.1.1.\n",
    "* Accept the SSL certificate from Windows machine."
   ]
  },
  {
   "cell_type": "markdown",
   "metadata": {
    "slideshow": {
     "slide_type": "slide"
    }
   },
   "source": [
    "# Doesn't work out of the box\n",
    "\n",
    "There are:\n",
    "* Issues with PowerShell versions 2 and 3\n",
    "* Issues with SSL certificate handling\n",
    "* Issues with Windows Server 2012"
   ]
  },
  {
   "cell_type": "markdown",
   "metadata": {
    "slideshow": {
     "slide_type": "slide"
    }
   },
   "source": [
    "# Issues with PowerShell versions 2 and 3\n",
    "\n",
    "## Problem\n",
    "\n",
    "* most Ansible win modules require PS3+\n",
    "* PS3 requires .Net4\n",
    "* provided script [upgrade_to_ps3.ps1](https://github.com/cchurch/ansible/blob/devel/examples/scripts/upgrade_to_ps3.ps1) has check for .Net4 commented out and check is broken.\n",
    "* Having PS3 is not enough:\n",
    "    * After upgrade to PS3 you run Windows Management Framework 3\n",
    "    * You need another hotfix.\n",
    "    \n",
    "## My solution\n",
    "\n",
    "* Manually install .Net4.5\n",
    "* Manually install Windows Management Framework 4.0, which includes PowerShell version 4."
   ]
  },
  {
   "cell_type": "markdown",
   "metadata": {
    "slideshow": {
     "slide_type": "slide"
    }
   },
   "source": [
    "# Issues with SSL certificate handling\n",
    "\n",
    "## Problem\n",
    "\n",
    "* Provided script [ConfigureRemotingForAnsible.ps1](https://github.com/ansible/ansible/blob/devel/examples/scripts/ConfigureRemotingForAnsible.ps1) generates\n",
    "    * new private key\n",
    "    * new self-signed SSL certificate\n",
    "    * new Windows Remote Management HTTPS listener to use the certificate\n",
    "* Ansible uses pywinrm to connect from Python to the winrm service via HTTPS.\n",
    "* pywinrm uses Python's ssl module to handle the SSL certificate\n",
    "* Since v2.7.9 Python checks the SSL certificate\n",
    "* It was a bug in earlier versions of Python not to check the certificate [[3]](https://www.python.org/dev/peps/pep-0476/).\n",
    "\n",
    "--> Since the SSL certificate is self-signed, the verification fails, which is the correct behavior for untrusted certificates. Thus Ansible will report a SSL certificate verification error.\n",
    "\n",
    "```\n",
    "fatal: [my.windows.machine.net]: FAILED! => {\"failed\": true, \"msg\": \"ERROR! ssl: 500 WinRMTransport. [SSL: CERTIFICATE_VERIFY_FAILED] certificate verify failed (_ssl.c:590)\"}\n",
    "```"
   ]
  },
  {
   "cell_type": "markdown",
   "metadata": {
    "slideshow": {
     "slide_type": "subslide"
    }
   },
   "source": [
    "# Options to get SSL working\n",
    "\n",
    "From best to worse:\n",
    "\n",
    "* Deploy an official SSL certificate to the Windows machine.\n",
    "* Use the self-signed certificate on the Windows machine, and make the Ansible/pywinrm/ssl/Python software stack accept the certificate by adding it to the store of trusted certificated.\n",
    "* Use the self-signed certificate on the Windows machine, but switch off certificate validation.\n",
    "    * pro: still transport channel encryption\n",
    "    * con: no authentication of remote side\n",
    "* Use unencrypted HTTP instead of HTTPS.\n",
    "    * pro: fallback if you are desperate\n",
    "    * con: no transport channel encryption, thus user/pass in cleartext\n",
    "    * con: no authentication of remote side\n",
    "\n",
    "Details per solution later in slideset."
   ]
  },
  {
   "cell_type": "markdown",
   "metadata": {
    "slideshow": {
     "slide_type": "slide"
    }
   },
   "source": [
    "# Issues with Windows Server 2012\n",
    "\n",
    "## Problems\n",
    "\n",
    "Windows Server 2012 seems to behave differently:\n",
    "* The scripts only runs as Administrator, not as a user with admin rights.\n",
    "* Running the _ConfigureRemotingForAnsible.ps1_ script does not lead to a working configuration\n",
    "* The script does not fully allow remote access. Verify with:\n",
    "\n",
    "```\n",
    "PS C:\\ winrm get winrm/config/Service\n",
    "    Service\n",
    "...\n",
    "        AllowRemoteAccess = false\n",
    "```\n",
    "\n",
    "* The winrm service does not deliver the full certificate chain of the own certificate and the intermediate certificate to the Ansible client.\n",
    "* In earlier versions of Windows both certificates are delivered.\n",
    "* If intermediate certificate delivery would be required, Ansible again runs into the certificate verification error."
   ]
  },
  {
   "cell_type": "markdown",
   "metadata": {
    "slideshow": {
     "slide_type": "subslide"
    }
   },
   "source": [
    "## Windows Server 2012 Solutions\n",
    "\n",
    "Full solution pending. Some ideas are:\n",
    "* Run the scripts as Administrator.\n",
    "* Manually allow remote access, e.g. via `Enable-PSRemoting`.\n",
    "* On the missing delivery of the intermediate certificate I have no idea yet how to fix this.\n",
    "* As workaround, you can use the 3rd best option described below.\n",
    "\n",
    "Your ideas?"
   ]
  },
  {
   "cell_type": "markdown",
   "metadata": {
    "slideshow": {
     "slide_type": "slide"
    }
   },
   "source": [
    "# Best solution: official certificate\n",
    "\n",
    "* Create an official certificate\n",
    "* Join together the private key, the server certificate and the intermediate certificate to a PKCS#12 bundle.\n",
    "\n",
    "```\n",
    "# openssl pkcs12 -export -out windows_key_and_certificate.pfx -inkey server_rsa_private_key.key -in cert.cer.txt -certfile Symantec_Class_3_Secure_Server_CA_-_G4.cer\n",
    "\n",
    "Enter pass phrase for server_rsa_private_key.key:\n",
    "\n",
    "Enter Export Password:\n",
    "\n",
    "Verifying - Enter Export Password:\n",
    "\n",
    "#\n",
    "```"
   ]
  },
  {
   "cell_type": "markdown",
   "metadata": {
    "slideshow": {
     "slide_type": "subslide"
    }
   },
   "source": [
    "# Best solution: official certificate\n",
    "\n",
    "* On Windows, import the bundle using MMC [[4]](https://technet.microsoft.com/en-us/library/cc780916%28v=ws.10%29.aspx).\n",
    "* Import the bundle to the __Local Computer Personal Certificate__ store.\n",
    "* The store shall show your official certificate with a key symbol, and the intermediate certificate without a key symbol.\n",
    "* Double check from Windows PowerShell that the import worked:\n",
    "\n",
    "```\n",
    "PS C:\\> Get-ChildItem cert:\\LocalMachine\\My\n",
    "    Directory: Microsoft.PowerShell.Security\\Certificate::LocalMachine\\My\n",
    "Thumbprint                                Subject                                                                      \n",
    "----------                                -------\n",
    "FF67367C5CD4DE4AE18BCCE1D70FDABD7C866135  CN=Symantec Class 3 Secure Server CA - G4, OU=Symantec Trust Network, O=Symantec...\n",
    "B8E77FFF760AE933C141510ABC2ACD8BF8B1D5C4  CN=my.windows.machine.net, OU=For Intranet Use ...\n",
    "```"
   ]
  },
  {
   "cell_type": "markdown",
   "metadata": {
    "slideshow": {
     "slide_type": "subslide"
    }
   },
   "source": [
    "# Best solution: official certificate\n",
    "\n",
    "* On Windows run a tweaked PS script [ConfigureRemotingForAnsibleUsingExistingCertificate.ps1](https://github.com/carsten-langer/ansible-tweaks/blob/master/ConfigureRemotingForAnsibleUsingExistingCertificate.ps1), based on Ansible's original script _ConfigureRemotingForAnsible.ps1_, but is modified to take the official SSL and private key in use instead of creating a new self-signed certificate.\n",
    "* You may have to run `Set-ExecutionPolicy -ExecutionPolicy Unrestricted -Scope CurrentUser` first to allow running of unsigned scripts.\n",
    "\n",
    "After that, Ansible can connect to the Windows machine."
   ]
  },
  {
   "cell_type": "markdown",
   "metadata": {
    "slideshow": {
     "slide_type": "slide"
    }
   },
   "source": [
    "# 2nd best solution: Make Ansible accept the self-signed certificate\n",
    "\n",
    "Idea:\n",
    "\n",
    "* export the self-signed certificate from the Windows machine\n",
    "* tell Ansible explicitly to trust this certificate\n",
    "\n",
    "Unfortunately, it seems not clear how to tell Ansible to trust a certain certificate, or where the right place would be anyway, in Ansible, in pywinrm, in a Python SSL library or in the system GNU/Linux certificate store. A lengthy discussion without a solution is at [[5]](https://github.com/ansible/ansible/issues/10294)."
   ]
  },
  {
   "cell_type": "markdown",
   "metadata": {
    "slideshow": {
     "slide_type": "subslide"
    }
   },
   "source": [
    "# 2nd best solution: Make Ansible accept the self-signed certificate\n",
    "\n",
    "So far I managed to store the certificate such that Python accesses it (On Ubuntu `cp my-self-signed-cert.crt /usr/local/share/ca-certificates/ ; dpkg-reconfigure ca-certificates`). I verify that it is accessed by:\n",
    "```\n",
    "# strace -f python /<path>/ansible-playbook -i windows windows.yml 2>&1 | grep \"/usr/lib/ssl/certs\"\n",
    "[pid 25000] stat(\"/usr/lib/ssl/certs/ac9f2638.0\",  <unfinished ...>\n",
    "[pid 25000] open(\"/usr/lib/ssl/certs/ac9f2638.0\", O_RDONLY) = 15\n",
    "[pid 25000] stat(\"/usr/lib/ssl/certs/ac9f2638.1\", 0x7ffe2954e290) = -1 ENOENT (No such file or directory)\n",
    "\n",
    "# ll /usr/lib/ssl/certs/ac9f2638.0\n",
    "lrwxrwxrwx 1 root root 61 Dec  7 13:01 /usr/lib/ssl/certs/ac9f2638.0 -> my-self-signed-cert.pem\n",
    "``` \n",
    "\n",
    "However, I still receive the the SSL verification error.\n",
    "\n",
    "Your ideas?"
   ]
  },
  {
   "cell_type": "markdown",
   "metadata": {
    "slideshow": {
     "slide_type": "slide"
    }
   },
   "source": [
    "# 3rd best solution: Use self-signed certificate, but let Ansible ignore it\n",
    "\n",
    "* Still use HTTPS transport encryption, so username/password and other info is not visible on the network.\n",
    "* But SSL certificate is not verified, thus no authentication of remote machine (inventory config error, man-in-the-middle).\n",
    "\n",
    "Solution since November 2015:\n",
    "* Discussion at [[6]](https://github.com/ansible/ansible/pull/12687).\n",
    "* Combination of pywinrm version 0.1.1 and newest Ansible 2 development release.\n",
    "* Enables a new variable `ansible_winrm_server_cert_validation`.\n",
    "* Set to `ignore`, pywinrm will not verify the SSL certificate.\n",
    "\n",
    "So your group_vars/windows.yml file could look like this:\n",
    "```\n",
    "ansible_user: cloud\n",
    "ansible_password: Temp1234\n",
    "ansible_connection: winrm\n",
    "ansible_port: 5986 # 5986 = HTTPS, 5985 = HTTP\n",
    "ansible_winrm_server_cert_validation: ignore # requires pywinrm>=0.1.1 and recent Ansible 2 development version\n",
    "```\n",
    "\n",
    "With this setting, Ansible will use HTTPS, but not validate the SSL certificate, thus Windows can use a self-signed certificate."
   ]
  },
  {
   "cell_type": "markdown",
   "metadata": {
    "slideshow": {
     "slide_type": "slide"
    }
   },
   "source": [
    "# Worst solution: Do not use transport encryption\n",
    "\n",
    "* Worst from security perspective.\n",
    "* Plain HTTP on port 5985 instead of HTTPS on port 5986.\n",
    "* No transport encryption is used --> username, password and all info in clear text\n",
    "\n",
    "Fallback use cases:\n",
    "* If you do not have the official certificate which you need for the best solution\n",
    "* If you do not have Ansible 2 which you need for the 3rd best solution.\n",
    "\n",
    "Following the discussion [[7]](https://social.msdn.microsoft.com/Forums/windowsserver/en-US/fb154aea-33ee-4182-a345-66f88a6769bc/allowunecrypted-winrm-property?forum=windowssecurity), on Windows PS use\n",
    "```\n",
    "winrm set winrm/config/service '@{AllowUnencrypted=\"true\"}'\n",
    "```\n",
    "The `' '` are important, as otherwise for Windows Server 2012 the command will fail.\n",
    "\n",
    "Then set the variable `ansible_ssh_port` to `5985`. Do not use `ansible_port` as it is ignored in Ansible 1.9. Your _group_vars/windows.yml_ file could look like this:\n",
    "```\n",
    "ansible_user: cloud\n",
    "ansible_password: Temp1234\n",
    "ansible_connection: winrm\n",
    "ansible_ssh_port: 5985 # 5986 = HTTPS, 5985 = HTTP\n",
    "```"
   ]
  }
 ],
 "metadata": {
  "celltoolbar": "Slideshow",
  "kernelspec": {
   "display_name": "Python 3",
   "language": "python",
   "name": "python3"
  },
  "language_info": {
   "codemirror_mode": {
    "name": "ipython",
    "version": 3
   },
   "file_extension": ".py",
   "mimetype": "text/x-python",
   "name": "python",
   "nbconvert_exporter": "python",
   "pygments_lexer": "ipython3",
   "version": "3.4.3"
  }
 },
 "nbformat": 4,
 "nbformat_minor": 0
}
